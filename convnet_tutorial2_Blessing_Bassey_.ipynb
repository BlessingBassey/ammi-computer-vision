{
 "cells": [
  {
   "cell_type": "markdown",
   "metadata": {
    "colab_type": "text",
    "id": "mCt-frpFH8oN"
   },
   "source": [
    "The tutorials use PyTorch. You will need to load the following dependencies."
   ]
  },
  {
   "cell_type": "code",
   "execution_count": 1,
   "metadata": {
    "colab": {},
    "colab_type": "code",
    "id": "hqnl0AKVXIA4"
   },
   "outputs": [],
   "source": [
    "import random\n",
    "import PIL\n",
    "import imageio\n",
    "import matplotlib.pyplot as plt\n",
    "import numpy as np\n",
    "import skimage.transform\n",
    "import torch\n",
    "import torch.nn as nn\n",
    "import torch.utils.data\n",
    "import torchvision\n",
    "from torchvision import datasets, transforms\n",
    "from IPython import display\n",
    "import torch.nn.functional as F"
   ]
  },
  {
   "cell_type": "markdown",
   "metadata": {
    "colab_type": "text",
    "id": "CKeYuM-cIXxs"
   },
   "source": [
    "The code below may be helpful in visualizing PyTorch tensors as images."
   ]
  },
  {
   "cell_type": "code",
   "execution_count": 0,
   "metadata": {
    "colab": {},
    "colab_type": "code",
    "id": "ZZd_rI8edYIB"
   },
   "outputs": [],
   "source": [
    "%matplotlib inline\n",
    "\n",
    "def show(img):\n",
    "    \"\"\"Show PyTorch tensor img as an image in matplotlib.\"\"\"\n",
    "    npimg = img.cpu().detach().numpy()\n",
    "    plt.imshow(np.transpose(npimg, (1, 2, 0)), interpolation='nearest')\n",
    "    plt.grid(False)\n",
    "    plt.gca().axis('off')\n",
    "\n",
    "def display_thumb(img):\n",
    "  display.display(transforms.Resize(128)(img))"
   ]
  },
  {
   "cell_type": "code",
   "execution_count": 0,
   "metadata": {
    "colab": {},
    "colab_type": "code",
    "id": "dzfEE578uSNp"
   },
   "outputs": [],
   "source": [
    "device = 'cuda' if torch.cuda.is_available() else 'cpu'"
   ]
  },
  {
   "cell_type": "markdown",
   "metadata": {
    "colab_type": "text",
    "id": "zgE0byUgKwM6"
   },
   "source": [
    "Load MNIST and define train/test functions as before. Please make sure you read the code carefully and understand what it is doing."
   ]
  },
  {
   "cell_type": "code",
   "execution_count": 4,
   "metadata": {
    "colab": {
     "base_uri": "https://localhost:8080/",
     "height": 335,
     "referenced_widgets": [
      "e181cf92cda543429e74f4f41e21845f",
      "ffb54bdfa2ee4738903e1f1a3e326529",
      "379e0d5ec4424d5eafb5361022b58936",
      "ad6db70edf8445c3bceb556341e9e5f6",
      "bdeb5f5cf1c947f086060372e09d5b47",
      "ce49e649bb0248299af1ee23bbfca586",
      "11b17f9cc5ea4918af0ac7a2e84ae8cd",
      "8c3c9bb6161144518e96aa5754212768",
      "eada6428b1e549d99b55149fa9479361",
      "7a5758cc6fa54feeabdf415ad399ecea",
      "473fa4f13ecd461db6c9dff761c6fcec",
      "a5e8432295f14b2c97176898a8c1ae07",
      "1b3c664e13e046e7ba27074beb31dbd2",
      "a261e37a531d493996a7639abf5080c2",
      "8be52de84367457bb1b40efd8c2ee84f",
      "eea80f4ade51436190281df17448c219",
      "710ccf67c42f433c82aaeb10875723fa",
      "750cbbda792f4f5b8a188465e6faf852",
      "8d3fc523381645dfb9ef56fc7f7054df",
      "9b913ca653f24d1c83572f3d2b27c5e0",
      "2f069e0f908448588780ab80038de3a4",
      "c9e52713015f4a15946eaa1526a4e025",
      "ba12503badf342e782d129ed5050e905",
      "2ba95524a20a4102848ad748d6e075ce",
      "2f8f082044ec421db5afbb673f4de947",
      "40b0b18193c74b12ac7740d272b29f8d",
      "e8983944c4c543dc96f045a6cd751680",
      "f12148f9d6b849fd85b0c6c1bafca087",
      "e4c95b18f06b4389a7bce0df03afaf38",
      "09552e275f7f48c8b40c7123847919d8",
      "db810661fcf5478e9b066b8372cfca79",
      "6fa4e2b7e8cc43648d0d4babbfb704ee"
     ]
    },
    "colab_type": "code",
    "id": "-NMUce6PKu-o",
    "outputId": "78dffb45-e242-4570-f4cc-302b5e29c11c"
   },
   "outputs": [
    {
     "name": "stdout",
     "output_type": "stream",
     "text": [
      "Downloading http://yann.lecun.com/exdb/mnist/train-images-idx3-ubyte.gz to /tmp/mnist/MNIST/raw/train-images-idx3-ubyte.gz\n"
     ]
    },
    {
     "data": {
      "application/vnd.jupyter.widget-view+json": {
       "model_id": "e181cf92cda543429e74f4f41e21845f",
       "version_major": 2,
       "version_minor": 0
      },
      "text/plain": [
       "HBox(children=(IntProgress(value=1, bar_style='info', max=1), HTML(value='')))"
      ]
     },
     "metadata": {
      "tags": []
     },
     "output_type": "display_data"
    },
    {
     "name": "stdout",
     "output_type": "stream",
     "text": [
      "Extracting /tmp/mnist/MNIST/raw/train-images-idx3-ubyte.gz to /tmp/mnist/MNIST/raw\n",
      "Downloading http://yann.lecun.com/exdb/mnist/train-labels-idx1-ubyte.gz to /tmp/mnist/MNIST/raw/train-labels-idx1-ubyte.gz\n"
     ]
    },
    {
     "data": {
      "application/vnd.jupyter.widget-view+json": {
       "model_id": "eada6428b1e549d99b55149fa9479361",
       "version_major": 2,
       "version_minor": 0
      },
      "text/plain": [
       "HBox(children=(IntProgress(value=1, bar_style='info', max=1), HTML(value='')))"
      ]
     },
     "metadata": {
      "tags": []
     },
     "output_type": "display_data"
    },
    {
     "name": "stdout",
     "output_type": "stream",
     "text": [
      "Extracting /tmp/mnist/MNIST/raw/train-labels-idx1-ubyte.gz to /tmp/mnist/MNIST/raw\n",
      "Downloading http://yann.lecun.com/exdb/mnist/t10k-images-idx3-ubyte.gz to /tmp/mnist/MNIST/raw/t10k-images-idx3-ubyte.gz\n",
      "\n"
     ]
    },
    {
     "data": {
      "application/vnd.jupyter.widget-view+json": {
       "model_id": "710ccf67c42f433c82aaeb10875723fa",
       "version_major": 2,
       "version_minor": 0
      },
      "text/plain": [
       "HBox(children=(IntProgress(value=1, bar_style='info', max=1), HTML(value='')))"
      ]
     },
     "metadata": {
      "tags": []
     },
     "output_type": "display_data"
    },
    {
     "name": "stdout",
     "output_type": "stream",
     "text": [
      "Extracting /tmp/mnist/MNIST/raw/t10k-images-idx3-ubyte.gz to /tmp/mnist/MNIST/raw\n",
      "Downloading http://yann.lecun.com/exdb/mnist/t10k-labels-idx1-ubyte.gz to /tmp/mnist/MNIST/raw/t10k-labels-idx1-ubyte.gz\n"
     ]
    },
    {
     "data": {
      "application/vnd.jupyter.widget-view+json": {
       "model_id": "2f8f082044ec421db5afbb673f4de947",
       "version_major": 2,
       "version_minor": 0
      },
      "text/plain": [
       "HBox(children=(IntProgress(value=1, bar_style='info', max=1), HTML(value='')))"
      ]
     },
     "metadata": {
      "tags": []
     },
     "output_type": "display_data"
    },
    {
     "name": "stdout",
     "output_type": "stream",
     "text": [
      "Extracting /tmp/mnist/MNIST/raw/t10k-labels-idx1-ubyte.gz to /tmp/mnist/MNIST/raw\n",
      "Processing...\n",
      "Done!\n"
     ]
    }
   ],
   "source": [
    "# Load the training and test dataset.\n",
    "mnist_train = datasets.MNIST('/tmp/mnist', train=True, download=True, transform=transforms.ToTensor())\n",
    "mnist_test = datasets.MNIST('/tmp/mnist', train=False, download=True, transform=transforms.ToTensor())\n",
    "\n",
    "# Size of the batches the data loader will produce.\n",
    "batch_size = 64\n",
    "\n",
    "# This creates the dataloaders.\n",
    "train_loader = torch.utils.data.DataLoader(mnist_train, batch_size=batch_size, shuffle=True)\n",
    "test_loader = torch.utils.data.DataLoader(mnist_test, batch_size=batch_size, shuffle=False)"
   ]
  },
  {
   "cell_type": "code",
   "execution_count": 5,
   "metadata": {
    "colab": {
     "base_uri": "https://localhost:8080/",
     "height": 35
    },
    "colab_type": "code",
    "id": "TgAJ94UgK1VU",
    "outputId": "89169a01-daa5-40ef-ff6c-c302094f1f4f"
   },
   "outputs": [
    {
     "name": "stdout",
     "output_type": "stream",
     "text": [
      "\n"
     ]
    }
   ],
   "source": [
    "def train(model, criterion, data_loader, optimizer, num_epochs):\n",
    "    \"\"\"Simple training loop for a PyTorch model.\"\"\" \n",
    "    \n",
    "    # Make sure model is in training mode.\n",
    "    model.train()\n",
    "    \n",
    "    # Move model to the device (CPU or GPU).\n",
    "    model.to(device)\n",
    "    \n",
    "    # Exponential moving average of the loss.\n",
    "    ema_loss = None\n",
    "    \n",
    "    # Loop over epochs.\n",
    "    for epoch in range(num_epochs):\n",
    "        \n",
    "      # Loop over data.\n",
    "      for batch_idx, (data, target) in enumerate(data_loader):\n",
    "            \n",
    "          # Forward pass.\n",
    "          output = model(data.to(device))\n",
    "          loss = criterion(output.to(device), target.to(device))\n",
    "          \n",
    "          # Backward pass.\n",
    "          optimizer.zero_grad()\n",
    "          loss.backward()\n",
    "          optimizer.step()\n",
    "          \n",
    "          # NOTE: It is important to call .item() on the loss before summing.\n",
    "          if ema_loss is None:\n",
    "            ema_loss = loss.item()\n",
    "          else:\n",
    "            ema_loss += (loss.item() - ema_loss) * 0.01 \n",
    "          \n",
    "      # Print out progress the end of epoch.\n",
    "      print('Train Epoch: {} \\tLoss: {:.6f}'.format(\n",
    "            epoch, ema_loss),\n",
    "      )\n",
    "              \n",
    "              \n",
    "def test(model, data_loader):\n",
    "    \"\"\"Measures the accuracy of a model on a data set.\"\"\" \n",
    "    # Make sure the model is in evaluation mode.\n",
    "    model.eval()\n",
    "    correct = 0\n",
    "\n",
    "    # We do not need to maintain intermediate activations while testing.\n",
    "    with torch.no_grad():\n",
    "        \n",
    "        # Loop over test data.\n",
    "        for data, target in data_loader:\n",
    "          \n",
    "            # Forward pass.\n",
    "            output = model(data.to(device))\n",
    "            \n",
    "            # Get the label corresponding to the highest predicted probability.\n",
    "            pred = output.argmax(dim=1, keepdim=True)\n",
    "            \n",
    "            # Count number of correct predictions.\n",
    "            correct += pred.cpu().eq(target.view_as(pred)).sum().item()\n",
    "\n",
    "    # Print test accuracy.\n",
    "    percent = 100. * correct / len(data_loader.dataset)\n",
    "    print(f'Accuracy: {correct} / {len(data_loader.dataset)} ({percent:.0f}%)')\n",
    "    return percent"
   ]
  },
  {
   "cell_type": "markdown",
   "metadata": {
    "colab_type": "text",
    "id": "eiKEmQHOgTev"
   },
   "source": [
    "In the last tutorial, you implemented a naive convolution. In this section you will implement your own version of forward pass of nn.Conv2d without using any of PyTorch's (or numpy's) pre-defined convolutional functions."
   ]
  },
  {
   "cell_type": "code",
   "execution_count": 0,
   "metadata": {
    "colab": {},
    "colab_type": "code",
    "id": "m3XgR3YVgTew"
   },
   "outputs": [],
   "source": [
    "def conv_forward_naive(x, w, b, conv_param):\n",
    "    \"\"\"\n",
    "    A naive Python implementation of a convolutional layer.\n",
    "    The input consists of N data points, each with C channels, height H and\n",
    "    width W. We convolve each input with F different filters, where each filter\n",
    "    spans all C channels and has height HH and width WW.\n",
    "    Input:\n",
    "    - x: Input data of shape (N, C, H, W)\n",
    "    - w: Filter weights of shape (F, C, HH, WW)\n",
    "    - b: Biases, of shape (F,)\n",
    "    - conv_param: A dictionary with the following keys:\n",
    "      - 'stride': The number of pixels between adjacent receptive fields in the\n",
    "        horizontal and vertical directions.\n",
    "      - 'pad': The number of pixels that will be used to zero-pad the input. \n",
    "        \n",
    "    During padding, 'pad' zeros should be placed symmetrically (i.e., equally on both sides)\n",
    "    along the height and width axes of the input. Be careful not to modfiy the original\n",
    "    input x directly.\n",
    "    Returns an array.\n",
    "    - out: Output data, of shape (N, F, H', W') where H' and W' are given by\n",
    "      H' = 1 + (H + 2 * pad - HH) / stride\n",
    "      W' = 1 + (W + 2 * pad - WW) / stride\n",
    "    \"\"\"\n",
    "    #out = []\n",
    "\n",
    "    N, C, H, W = x.shape\n",
    "    num_filters, _, filter_height, filter_width = w.shape\n",
    "    stride, pad = conv_param['stride'], conv_param['pad']\n",
    "\n",
    "    # Check dimensions.\n",
    "    assert (W + 2 * pad - filter_width) % stride == 0, 'width does not work'\n",
    "    assert (H + 2 * pad - filter_height) % stride == 0, 'height does not work'\n",
    "    \n",
    "    out_height = ((H - filter_height + 2*pad)//stride) + 1\n",
    "    out_width = ((W - filter_height + 2*pad)//stride) + 1\n",
    "    out = torch.zeros((N,num_filters,out_height,out_width))\n",
    "    x = F.pad(x,pad=(pad,pad,pad,pad))\n",
    "    for im in range(N):\n",
    "        full_im = x[im,:,:,:]\n",
    "        for fil in range(num_filters):\n",
    "            filter_ = w[fil,:,:,:]\n",
    "            bias = b[fil]\n",
    "            indx1 = 0\n",
    "            indx2 = 0\n",
    "            for r in range(out_height):\n",
    "                for c in range(out_width):\n",
    "                    conv_part = full_im[:,indx1:indx1+filter_width,indx2:indx2+filter_height]\n",
    "                    out[im,fil,r,c] = torch.sum(conv_part*filter_)+bias\n",
    "                    indx1 += stride\n",
    "                indx2 += stride\n",
    "                indx1 = 0\n",
    "    return out\n",
    " \n",
    "            \n",
    "\n",
    "    ###########################################################################\n",
    "    # TODO: Implement the forward pass of a convolutional layer without using #\n",
    "    #       nn.Conv2D or other implementations of convolutions. Instead, use  #\n",
    "    #       standard for- and while-loops to iterate over the tensors.        #\n",
    "    #                                                                         #\n",
    "    # Hint: you can use the function torch.nn.functional.pad for padding.     #\n",
    "    ###########################################################################\n",
    "    "
   ]
  },
  {
   "cell_type": "markdown",
   "metadata": {
    "colab_type": "text",
    "id": "nDYsMS0GgTe0"
   },
   "source": [
    "You can test your implementation by running the following testing code:"
   ]
  },
  {
   "cell_type": "code",
   "execution_count": 7,
   "metadata": {
    "colab": {
     "base_uri": "https://localhost:8080/",
     "height": 69
    },
    "colab_type": "code",
    "id": "cnSZBV_hgTe1",
    "outputId": "c11bff5d-0903-4a60-d520-c818923efa6e"
   },
   "outputs": [
    {
     "name": "stdout",
     "output_type": "stream",
     "text": [
      "Testing conv_forward_naive\n",
      "difference:  tensor(1.8528e-08)\n",
      "Nice work! Your implementation of a convolution layer works correctly.\n"
     ]
    }
   ],
   "source": [
    "# Make convolution module.\n",
    "w_shape = (3, 3, 4, 4)\n",
    "w = torch.linspace(-0.2, 0.3, steps=torch.prod(torch.tensor(w_shape))).reshape(w_shape)\n",
    "b = torch.linspace(-0.1, 0.2, steps=3)\n",
    "\n",
    "# Compute output of module and compare against reference values.\n",
    "x_shape = (2, 3, 4, 4)\n",
    "x = torch.linspace(-0.1, 0.5, steps=torch.prod(torch.tensor(x_shape))).reshape(x_shape)\n",
    "out = conv_forward_naive(x, w, b, {'stride': 2, 'pad': 1})\n",
    "\n",
    "correct_out = torch.tensor([[[[-0.08759809, -0.10987781],\n",
    "                              [-0.18387192, -0.2109216 ]],\n",
    "                             [[ 0.21027089,  0.21661097],\n",
    "                              [ 0.22847626,  0.23004637]],\n",
    "                             [[ 0.50813986,  0.54309974],\n",
    "                              [ 0.64082444,  0.67101435]]],\n",
    "                            [[[-0.98053589, -1.03143541],\n",
    "                              [-1.19128892, -1.24695841]],\n",
    "                             [[ 0.69108355,  0.66880383],\n",
    "                              [ 0.59480972,  0.56776003]],\n",
    "                             [[ 2.36270298,  2.36904306],\n",
    "                              [ 2.38090835,  2.38247847]]]])\n",
    "\n",
    "# Compare your output to ours; difference should be around e-8\n",
    "print('Testing conv_forward_naive')\n",
    "rel_error = ((out - correct_out) / (out + correct_out + 1e-6)).mean()\n",
    "print('difference: ', rel_error)\n",
    "if abs(rel_error) < 1e-6:\n",
    "    print('Nice work! Your implementation of a convolution layer works correctly.')\n",
    "else:\n",
    "    print('Something is wrong. The output was expected to be {} but it was {}'.format(correct_out, out))"
   ]
  },
  {
   "cell_type": "markdown",
   "metadata": {
    "colab_type": "text",
    "id": "GjTq5-k_q8s_"
   },
   "source": [
    "\n",
    "We will now replace the logistic regressor from the last tutorial by a small convolutional network with two convolutional layers and a linear layer, and ReLU activations in between the layers. Implement the model and use the same functions as before to train and test the convolutional network."
   ]
  },
  {
   "cell_type": "code",
   "execution_count": 8,
   "metadata": {
    "colab": {
     "base_uri": "https://localhost:8080/",
     "height": 138
    },
    "colab_type": "code",
    "id": "5t4hWoUYpp05",
    "outputId": "4cce5958-fb68-47bf-ca13-0e3546e87402"
   },
   "outputs": [
    {
     "name": "stdout",
     "output_type": "stream",
     "text": [
      "Train Epoch: 0 \tLoss: 0.140962\n",
      "Train Epoch: 1 \tLoss: 0.085388\n",
      "Train Epoch: 2 \tLoss: 0.073502\n",
      "Train Epoch: 3 \tLoss: 0.055949\n",
      "Train Epoch: 4 \tLoss: 0.050457\n",
      "Accuracy: 9840 / 10000 (98%)\n"
     ]
    },
    {
     "data": {
      "text/plain": [
       "98.4"
      ]
     },
     "execution_count": 8,
     "metadata": {
      "tags": []
     },
     "output_type": "execute_result"
    }
   ],
   "source": [
    "class ConvolutionalNetwork(nn.Module):\n",
    "  \"\"\"Simple convolutional network.\"\"\"\n",
    "  \n",
    "  def __init__(self, image_side_size, num_classes, in_channels=1):\n",
    "      super(ConvolutionalNetwork, self).__init__()\n",
    "      #num_channels = 8\n",
    "        \n",
    "      # Fill these in:\n",
    "      ##########################################################################\n",
    "      # TODO: Implement a convulutional and a linear part.                     #\n",
    "      # Hint: see forward() to understand how they should work together.       #\n",
    "      ##########################################################################        \n",
    "      self.conv_network = nn.Sequential(\n",
    "          nn.Conv2d(in_channels,64, kernel_size = 3),\n",
    "          nn.ReLU(),\n",
    "          nn.Conv2d(64, 28, kernel_size = 3),\n",
    "          nn.ReLU(),\n",
    "      )\n",
    "        \n",
    "      self.linear = nn.Linear(28 * 24 * 24 , num_classes )\n",
    "      \n",
    "      \n",
    "  def forward(self, x):\n",
    "      x = self.conv_network(x)\n",
    "      x = self.linear(x.view(x.size(0), -1))\n",
    "      return x\n",
    "\n",
    "    \n",
    "# Create and train convolutional network.\n",
    "# The accuracy should be around 98%.\n",
    "conv_model = ConvolutionalNetwork(28, 10)\n",
    "###########################################################################\n",
    "# TODO: Create criterion and optimize here.                               #\n",
    "###########################################################################\n",
    "criterion = nn.CrossEntropyLoss()\n",
    "optimizer = torch.optim.SGD(conv_model.parameters(), lr = 0.1)\n",
    "\n",
    "\n",
    "train(conv_model, criterion, train_loader, optimizer, num_epochs=5)\n",
    "test(conv_model, test_loader)"
   ]
  },
  {
   "cell_type": "markdown",
   "metadata": {
    "colab_type": "text",
    "id": "pqBISZ5fgTe8"
   },
   "source": [
    "Inspect the filters in the first layer of the trained convolutional network. What do they look like? Why?"
   ]
  },
  {
   "cell_type": "code",
   "execution_count": 2,
   "metadata": {},
   "outputs": [],
   "source": [
    "class ConvolutionalNetwork(nn.Module):\n",
    "  \"\"\"Simple convolutional network.\"\"\"\n",
    "  \n",
    "  def __init__(self, image_side_size, num_classes, in_channels=1):\n",
    "      super(ConvolutionalNetwork, self).__init__()\n",
    "      #num_channels = 8\n",
    "        \n",
    "      # Fill these in:\n",
    "      ##########################################################################\n",
    "      # TODO: Implement a convulutional and a linear part.                     #\n",
    "      # Hint: see forward() to understand how they should work together.       #\n",
    "      ##########################################################################        \n",
    "      self.conv_network = nn.Sequential(\n",
    "          nn.Conv2d(3, 8, 3, stride=2),\n",
    "          nn.ReLU(),\n",
    "          nn.Conv2d(8, 128, 3, stride=2),\n",
    "          nn.ReLU(),\n",
    "          nn.ConvTranspose2d(128, 16, 3, stride=2)\n",
    "          nn.Conv2d()\n",
    "      )\n",
    "        "
   ]
  },
  {
   "cell_type": "code",
   "execution_count": 9,
   "metadata": {
    "colab": {
     "base_uri": "https://localhost:8080/",
     "height": 248
    },
    "colab_type": "code",
    "id": "LuSuQHT6bNdU",
    "outputId": "d6652068-082a-4777-93da-543b830c4243"
   },
   "outputs": [
    {
     "data": {
      "image/png": "[encoded data removed]",
      "text/plain": [
       "<Figure size 432x288 with 1 Axes>"
      ]
     },
     "metadata": {
      "needs_background": "light",
      "tags": []
     },
     "output_type": "display_data"
    }
   ],
   "source": [
    "first_conv = list(conv_model.conv_network.children())[0]\n",
    "show(torchvision.utils.make_grid(\n",
    "    first_conv.weight,\n",
    "    normalize=True,\n",
    "    nrow=8,\n",
    "))"
   ]
  },
  {
   "cell_type": "markdown",
   "metadata": {
    "colab_type": "text",
    "id": "7QCETJL31psC"
   },
   "source": [
    "***Observation*** The first filter in the first network does not carry lots of infomation about the image, this is because the network was able to learn simple things."
   ]
  },
  {
   "cell_type": "markdown",
   "metadata": {
    "colab_type": "text",
    "id": "71LRkRxndajG"
   },
   "source": [
    "## Batch Normalization\n"
   ]
  },
  {
   "cell_type": "markdown",
   "metadata": {
    "colab_type": "text",
    "id": "oN8qTuGkZ-3X"
   },
   "source": [
    "Batch normalization is tenchique that allows to make training more stable fast [1].\n",
    "\n",
    "Below we define a convolutional network with 3 layers. Before each ReLU layer we insert a BatchNorm2d layer if `use_batch_norm` is `True`. This improves the convergence as guarantees as values have the same variance asn zero-means. As a result on average exactly half of the values will be nulled by ReLU.\n",
    "\n",
    "[1] Ioffe, Sergey, and Christian Szegedy. \"Batch normalization: Accelerating deep network training by reducing internal covariate shift.\" arXiv preprint arXiv:1502.03167 (2015).\n",
    "\n",
    "**Task**. Go ahead and add batch normalization layer."
   ]
  },
  {
   "cell_type": "code",
   "execution_count": 0,
   "metadata": {
    "colab": {},
    "colab_type": "code",
    "id": "vg4CO_WDeLqh"
   },
   "outputs": [],
   "source": [
    "class ConvolutionalNetworkWithBN(nn.Module):\n",
    "  \"\"\"Convolutional network uses batch normalization when `use_batch_norm` is `True`.\"\"\"\n",
    "  \n",
    "  def __init__(self, use_batch_norm=False):\n",
    "      super().__init__()\n",
    "      num_channels = 8\n",
    "      self.use_batch_norm = use_batch_norm\n",
    "        \n",
    "      # We define all our layers in a single Sequential. If use_batch_norm is \n",
    "      # True, we'd like maybe_batch_norm_layer to produce a batchnorm layer.\n",
    "      self.conv = nn.Sequential(\n",
    "          # 1x28x28 -> 8x24x24.\n",
    "          nn.Conv2d(1, num_channels, kernel_size=5),\n",
    "          # 8x24x24 -> 8x12x12.\n",
    "          nn.MaxPool2d(2),\n",
    "          self.maybe_batch_norm_layer(num_channels),\n",
    "          nn.ReLU(inplace=True),\n",
    "          nn.Conv2d(num_channels, num_channels, kernel_size=3, padding=1),          \n",
    "          self.maybe_batch_norm_layer(num_channels),            \n",
    "          nn.ReLU(inplace=True),\n",
    "          # 8x12x12 -> 8x8x8.\n",
    "          nn.Conv2d(num_channels, num_channels, kernel_size=5),\n",
    "          # 8x8x8 -> 8x4x4.\n",
    "          nn.MaxPool2d(2),\n",
    "          self.maybe_batch_norm_layer(num_channels),\n",
    "          nn.ReLU(inplace=True),\n",
    "      )\n",
    "      self.linear = nn.Linear(num_channels * 4 ** 2, 10)  \n",
    "      \n",
    "  def maybe_batch_norm_layer(self, num_channels):\n",
    "      if self.use_batch_norm:\n",
    "          ###########################################################################\n",
    "          # TODO: Add batch norm layer                                              #\n",
    "          # Put your code between START_GRADING and END_GRADING. \n",
    "          return nn.BatchNorm2d(num_features = num_channels)                        #\n",
    "          ###########################################################################\n",
    "          \n",
    "          \n",
    "      else:  \n",
    "          # This layer will copy its input to the output.\n",
    "          return nn.Identity()\n",
    "      \n",
    "  def forward(self, x):\n",
    "      x = self.conv(x)  \n",
    "      x = self.linear(x.view(x.size(0), -1))\n",
    "      return x"
   ]
  },
  {
   "cell_type": "markdown",
   "metadata": {
    "colab_type": "text",
    "id": "qbtzzBhiJ4PW"
   },
   "source": [
    "To see how batch normalization improves stability, let's try to train the neural network with different learning rates and check the accuracies."
   ]
  },
  {
   "cell_type": "code",
   "execution_count": 11,
   "metadata": {
    "colab": {
     "base_uri": "https://localhost:8080/",
     "height": 276
    },
    "colab_type": "code",
    "id": "YXuSliJF3r7u",
    "outputId": "a89f8403-1eb6-4699-8317-fc91e640117c"
   },
   "outputs": [
    {
     "name": "stdout",
     "output_type": "stream",
     "text": [
      "Train Epoch: 0 \tLoss: 0.174855\n",
      "Accuracy: 9563 / 10000 (96%)\n",
      "##### lr=0.3 leads to DECENT accuracy (no batch normalization)\n",
      "Train Epoch: 0 \tLoss: 0.134352\n",
      "Accuracy: 9597 / 10000 (96%)\n",
      "##### lr=0.1 leads to DECENT accuracy (no batch normalization)\n",
      "Train Epoch: 0 \tLoss: 0.188717\n",
      "Accuracy: 9392 / 10000 (94%)\n",
      "##### lr=0.03 leads to DECENT accuracy (no batch normalization)\n",
      "Train Epoch: 0 \tLoss: 0.351668\n",
      "Accuracy: 9150 / 10000 (92%)\n",
      "##### lr=0.01 leads to DECENT accuracy (no batch normalization)\n",
      "Train Epoch: 0 \tLoss: 2.269828\n",
      "Accuracy: 2028 / 10000 (20%)\n",
      "##### lr=0.003 leads to BAD accuracy (no batch normalization)\n"
     ]
    }
   ],
   "source": [
    "for lr in 0.3, 0.1, 0.03, 0.01, 0.003:\n",
    "  conv_model = ConvolutionalNetworkWithBN()\n",
    "  optimizer = torch.optim.SGD(conv_model.parameters(), lr=lr)\n",
    "  train(conv_model, nn.CrossEntropyLoss(), train_loader, optimizer, num_epochs=1)\n",
    "  accuracy = test(conv_model, test_loader)\n",
    "  if accuracy > 96:\n",
    "    print(f'##### lr={lr} leads to GOOD accuracy (no batch normalization)')\n",
    "  elif accuracy > 90:\n",
    "    print(f'##### lr={lr} leads to DECENT accuracy (no batch normalization)')\n",
    "  else:\n",
    "    print(f'##### lr={lr} leads to BAD accuracy (no batch normalization)')   "
   ]
  },
  {
   "cell_type": "markdown",
   "metadata": {
    "colab_type": "text",
    "id": "WrJBxM03KOZ-"
   },
   "source": [
    "As you can see learning rate should be in a narrow region to get GOOD result.\n",
    "\n",
    "Now let's try to run the same batch normalization. Before running the code you should finish TODO in ConvolutionalNetworkWithBN code. If your code is correct, then accuracies will improve."
   ]
  },
  {
   "cell_type": "code",
   "execution_count": 12,
   "metadata": {
    "colab": {
     "base_uri": "https://localhost:8080/",
     "height": 276
    },
    "colab_type": "code",
    "id": "6u2JJdnX5VKF",
    "outputId": "35539682-58e3-4f96-83ca-5a06611be8cb"
   },
   "outputs": [
    {
     "name": "stdout",
     "output_type": "stream",
     "text": [
      "Train Epoch: 0 \tLoss: 0.064687\n",
      "Accuracy: 9828 / 10000 (98%)\n",
      "##### lr=0.3 leads to GOOD accuracy (with batch normalization)\n",
      "Train Epoch: 0 \tLoss: 0.064332\n",
      "Accuracy: 9821 / 10000 (98%)\n",
      "##### lr=0.1 leads to GOOD accuracy (with batch normalization)\n",
      "Train Epoch: 0 \tLoss: 0.099631\n",
      "Accuracy: 9780 / 10000 (98%)\n",
      "##### lr=0.03 leads to GOOD accuracy (with batch normalization)\n",
      "Train Epoch: 0 \tLoss: 0.193038\n",
      "Accuracy: 9641 / 10000 (96%)\n",
      "##### lr=0.01 leads to GOOD accuracy (with batch normalization)\n",
      "Train Epoch: 0 \tLoss: 0.517648\n",
      "Accuracy: 9261 / 10000 (93%)\n",
      "##### lr=0.003 leads to DECENT accuracy (with batch normalization)\n"
     ]
    }
   ],
   "source": [
    "for lr in 0.3, 0.1, 0.03, 0.01, 0.003:\n",
    "  conv_model = ConvolutionalNetworkWithBN(use_batch_norm=True)\n",
    "  optimizer = torch.optim.SGD(conv_model.parameters(), lr=lr)\n",
    "  train(conv_model, nn.CrossEntropyLoss(), train_loader, optimizer, num_epochs=1)\n",
    "  accuracy = test(conv_model, test_loader)\n",
    "  if accuracy > 96:\n",
    "    print(f'##### lr={lr} leads to GOOD accuracy (with batch normalization)')\n",
    "  elif accuracy > 90:\n",
    "    print(f'##### lr={lr} leads to DECENT accuracy (with batch normalization)')\n",
    "  else:\n",
    "    print(f'##### lr={lr} leads to BAD accuracy (with batch normalization)')   \n",
    "  if lr >= 0.01:\n",
    "    assert accuracy > 90, 'Accuracy is too low. Check that your BatchNorm implementation is correct!'"
   ]
  },
  {
   "cell_type": "markdown",
   "metadata": {
    "colab_type": "text",
    "id": "gdgr7eNFTTAn"
   },
   "source": [
    "**Question [optional]:** Replace the batch normalization layer in your network by your own implementation. Confirm your batch-normalization implementation is correct."
   ]
  },
  {
   "cell_type": "code",
   "execution_count": 13,
   "metadata": {
    "colab": {
     "base_uri": "https://localhost:8080/",
     "height": 35
    },
    "colab_type": "code",
    "id": "MAuhUMtjTj3f",
    "outputId": "5857065e-53e5-48d5-9478-6f932e254e17"
   },
   "outputs": [
    {
     "name": "stdout",
     "output_type": "stream",
     "text": [
      "All OK!\n"
     ]
    }
   ],
   "source": [
    "class MyBatchNorm2d(nn.Module):\n",
    "    \"\"\"Simple implementation of batch normalization.\"\"\"\n",
    "\n",
    "    def __init__(self, num_channels, momentum=0.1, epsilon=1e-5):\n",
    "        super(MyBatchNorm2d, self).__init__()\n",
    "\n",
    "        # Initialize bias and gain parameters.\n",
    "        self.gamma = nn.Parameter(torch.ones(1, num_channels, 1, 1))\n",
    "        self.beta = nn.Parameter(torch.zeros(1, num_channels, 1, 1))\n",
    "\n",
    "        # Initialize moving averages.\n",
    "        self.epsilon = epsilon\n",
    "        self.momentum = momentum\n",
    "        self.register_buffer('running_mean', torch.zeros((1, num_channels, 1, 1)))\n",
    "        self.register_buffer('running_var', torch.ones((1, num_channels, 1, 1)))\n",
    "\n",
    "    def forward(self, x):\n",
    "        # Check that input is of correct size.\n",
    "        assert x.dim() == 4, 'input should be NCHW'\n",
    "        assert x.size(1) == self.gamma.numel()\n",
    "        \n",
    "        \n",
    "            \n",
    "        \n",
    "        ########################################################################\n",
    "        # TODO: Add batch norm layer implementation.                           #\n",
    "        # You code should:                                                     #\n",
    "        #   * Compute mean and var.                                            #\n",
    "        #   * Update running_mean and running_var.                             #\n",
    "        #   * Apply mean - variance normalization to x.                        #\n",
    "        # Put your code between START_GRADING and END_GRADING. \n",
    "        if self.training:\n",
    "            N,C,H,W = x.shape\n",
    "            mean = x.mean(dim = [0,2,3])\n",
    "            variance = x.var(dim = [0,2,3])\n",
    "            mean = mean.view((1,C,1,1))\n",
    "            variance = variance.view((1,C,1,1))\n",
    "            x = (x -  mean)/torch.sqrt(variance)\n",
    "            self.running_mean = (1 - self.momentum)*self.running_mean + self.momentum * mean\n",
    "            self.running_var = (1 - self.momentum)*self.running_var + self.momentum * variance\n",
    "        else:\n",
    "            x = (x -  self.running_mean)/torch.sqrt(self.running_var) + self.epsilon\n",
    "        return self.gamma * x + self.beta\n",
    "                                                                                #\n",
    "        ########################################################################\n",
    "        \n",
    "\n",
    "\n",
    "# Use this code to test if your implementation is correct.\n",
    "batch_size, num_channels, im_size = 32, 8, 6\n",
    "batchnorm1 = nn.BatchNorm2d(num_channels)\n",
    "batchnorm2 = MyBatchNorm2d(num_channels)\n",
    "for key, param in batchnorm1.named_parameters():\n",
    "    if key == 'weight':\n",
    "        param.data.fill_(1.0)  # undo random initialization in nn.BatchNorm2d\n",
    "for mode in [True, False]:     # test in training and evaluation mode\n",
    "    batchnorm1.train(mode=mode)\n",
    "    batchnorm2.train(mode=mode)\n",
    "    for _ in range(5):\n",
    "        x = torch.randn(batch_size, num_channels, im_size, im_size) + 10.0\n",
    "        out1 = batchnorm1(x)\n",
    "        out2 = batchnorm2(x)\n",
    "        assert (batchnorm1.running_mean - batchnorm2.running_mean.squeeze()).abs().max() < 1e-5, \\\n",
    "            'running mean is incorrect (%s mode)' % ('train' if mode else 'eval')\n",
    "        assert (batchnorm1.running_var - batchnorm2.running_var.squeeze()).abs().max() < 1e-5, \\\n",
    "            'running variance is incorrect (%s mode)' % ('train' if mode else 'eval')\n",
    "        assert (out1 - out2).abs().max() < 5e-3, \\\n",
    "            'normalized output is incorrect (%s mode)' % ('train' if mode else 'eval')\n",
    "print('All OK!')\n",
    "        "
   ]
  },
  {
   "cell_type": "code",
   "execution_count": 0,
   "metadata": {
    "colab": {},
    "colab_type": "code",
    "id": "K_mlTK4LMlse"
   },
   "outputs": [],
   "source": []
  }
 ],
 "metadata": {
  "accelerator": "GPU",
  "colab": {
   "collapsed_sections": [],
   "name": "Bassey_Blessing_convnet_tutorial2.ipynb",
   "provenance": []
  },
  "kernelspec": {
   "display_name": "Python 3",
   "language": "python",
   "name": "python3"
  },
  "language_info": {
   "codemirror_mode": {
    "name": "ipython",
    "version": 3
   },
   "file_extension": ".py",
   "mimetype": "text/x-python",
   "name": "python",
   "nbconvert_exporter": "python",
   "pygments_lexer": "ipython3",
   "version": "3.7.3"
  },
  "widgets": {
   "application/vnd.jupyter.widget-state+json": {
    "09552e275f7f48c8b40c7123847919d8": {
     "model_module": "@jupyter-widgets/base",
     "model_name": "LayoutModel",
     "state": {
      "_model_module": "@jupyter-widgets/base",
      "_model_module_version": "1.2.0",
      "_model_name": "LayoutModel",
      "_view_count": null,
      "_view_module": "@jupyter-widgets/base",
      "_view_module_version": "1.2.0",
      "_view_name": "LayoutView",
      "align_content": null,
      "align_items": null,
      "align_self": null,
      "border": null,
      "bottom": null,
      "display": null,
      "flex": null,
      "flex_flow": null,
      "grid_area": null,
      "grid_auto_columns": null,
      "grid_auto_flow": null,
      "grid_auto_rows": null,
      "grid_column": null,
      "grid_gap": null,
      "grid_row": null,
      "grid_template_areas": null,
      "grid_template_columns": null,
      "grid_template_rows": null,
      "height": null,
      "justify_content": null,
      "justify_items": null,
      "left": null,
      "margin": null,
      "max_height": null,
      "max_width": null,
      "min_height": null,
      "min_width": null,
      "object_fit": null,
      "object_position": null,
      "order": null,
      "overflow": null,
      "overflow_x": null,
      "overflow_y": null,
      "padding": null,
      "right": null,
      "top": null,
      "visibility": null,
      "width": null
     }
    },
    "11b17f9cc5ea4918af0ac7a2e84ae8cd": {
     "model_module": "@jupyter-widgets/controls",
     "model_name": "DescriptionStyleModel",
     "state": {
      "_model_module": "@jupyter-widgets/controls",
      "_model_module_version": "1.5.0",
      "_model_name": "DescriptionStyleModel",
      "_view_count": null,
      "_view_module": "@jupyter-widgets/base",
      "_view_module_version": "1.2.0",
      "_view_name": "StyleView",
      "description_width": ""
     }
    },
    "1b3c664e13e046e7ba27074beb31dbd2": {
     "model_module": "@jupyter-widgets/controls",
     "model_name": "ProgressStyleModel",
     "state": {
      "_model_module": "@jupyter-widgets/controls",
      "_model_module_version": "1.5.0",
      "_model_name": "ProgressStyleModel",
      "_view_count": null,
      "_view_module": "@jupyter-widgets/base",
      "_view_module_version": "1.2.0",
      "_view_name": "StyleView",
      "bar_color": null,
      "description_width": "initial"
     }
    },
    "2ba95524a20a4102848ad748d6e075ce": {
     "model_module": "@jupyter-widgets/base",
     "model_name": "LayoutModel",
     "state": {
      "_model_module": "@jupyter-widgets/base",
      "_model_module_version": "1.2.0",
      "_model_name": "LayoutModel",
      "_view_count": null,
      "_view_module": "@jupyter-widgets/base",
      "_view_module_version": "1.2.0",
      "_view_name": "LayoutView",
      "align_content": null,
      "align_items": null,
      "align_self": null,
      "border": null,
      "bottom": null,
      "display": null,
      "flex": null,
      "flex_flow": null,
      "grid_area": null,
      "grid_auto_columns": null,
      "grid_auto_flow": null,
      "grid_auto_rows": null,
      "grid_column": null,
      "grid_gap": null,
      "grid_row": null,
      "grid_template_areas": null,
      "grid_template_columns": null,
      "grid_template_rows": null,
      "height": null,
      "justify_content": null,
      "justify_items": null,
      "left": null,
      "margin": null,
      "max_height": null,
      "max_width": null,
      "min_height": null,
      "min_width": null,
      "object_fit": null,
      "object_position": null,
      "order": null,
      "overflow": null,
      "overflow_x": null,
      "overflow_y": null,
      "padding": null,
      "right": null,
      "top": null,
      "visibility": null,
      "width": null
     }
    },
    "2f069e0f908448588780ab80038de3a4": {
     "model_module": "@jupyter-widgets/controls",
     "model_name": "ProgressStyleModel",
     "state": {
      "_model_module": "@jupyter-widgets/controls",
      "_model_module_version": "1.5.0",
      "_model_name": "ProgressStyleModel",
      "_view_count": null,
      "_view_module": "@jupyter-widgets/base",
      "_view_module_version": "1.2.0",
      "_view_name": "StyleView",
      "bar_color": null,
      "description_width": "initial"
     }
    },
    "2f8f082044ec421db5afbb673f4de947": {
     "model_module": "@jupyter-widgets/controls",
     "model_name": "HBoxModel",
     "state": {
      "_dom_classes": [],
      "_model_module": "@jupyter-widgets/controls",
      "_model_module_version": "1.5.0",
      "_model_name": "HBoxModel",
      "_view_count": null,
      "_view_module": "@jupyter-widgets/controls",
      "_view_module_version": "1.5.0",
      "_view_name": "HBoxView",
      "box_style": "",
      "children": [
       "IPY_MODEL_e8983944c4c543dc96f045a6cd751680",
       "IPY_MODEL_f12148f9d6b849fd85b0c6c1bafca087"
      ],
      "layout": "IPY_MODEL_40b0b18193c74b12ac7740d272b29f8d"
     }
    },
    "379e0d5ec4424d5eafb5361022b58936": {
     "model_module": "@jupyter-widgets/controls",
     "model_name": "IntProgressModel",
     "state": {
      "_dom_classes": [],
      "_model_module": "@jupyter-widgets/controls",
      "_model_module_version": "1.5.0",
      "_model_name": "IntProgressModel",
      "_view_count": null,
      "_view_module": "@jupyter-widgets/controls",
      "_view_module_version": "1.5.0",
      "_view_name": "ProgressView",
      "bar_style": "info",
      "description": "",
      "description_tooltip": null,
      "layout": "IPY_MODEL_ce49e649bb0248299af1ee23bbfca586",
      "max": 1,
      "min": 0,
      "orientation": "horizontal",
      "style": "IPY_MODEL_bdeb5f5cf1c947f086060372e09d5b47",
      "value": 1
     }
    },
    "40b0b18193c74b12ac7740d272b29f8d": {
     "model_module": "@jupyter-widgets/base",
     "model_name": "LayoutModel",
     "state": {
      "_model_module": "@jupyter-widgets/base",
      "_model_module_version": "1.2.0",
      "_model_name": "LayoutModel",
      "_view_count": null,
      "_view_module": "@jupyter-widgets/base",
      "_view_module_version": "1.2.0",
      "_view_name": "LayoutView",
      "align_content": null,
      "align_items": null,
      "align_self": null,
      "border": null,
      "bottom": null,
      "display": null,
      "flex": null,
      "flex_flow": null,
      "grid_area": null,
      "grid_auto_columns": null,
      "grid_auto_flow": null,
      "grid_auto_rows": null,
      "grid_column": null,
      "grid_gap": null,
      "grid_row": null,
      "grid_template_areas": null,
      "grid_template_columns": null,
      "grid_template_rows": null,
      "height": null,
      "justify_content": null,
      "justify_items": null,
      "left": null,
      "margin": null,
      "max_height": null,
      "max_width": null,
      "min_height": null,
      "min_width": null,
      "object_fit": null,
      "object_position": null,
      "order": null,
      "overflow": null,
      "overflow_x": null,
      "overflow_y": null,
      "padding": null,
      "right": null,
      "top": null,
      "visibility": null,
      "width": null
     }
    },
    "473fa4f13ecd461db6c9dff761c6fcec": {
     "model_module": "@jupyter-widgets/controls",
     "model_name": "IntProgressModel",
     "state": {
      "_dom_classes": [],
      "_model_module": "@jupyter-widgets/controls",
      "_model_module_version": "1.5.0",
      "_model_name": "IntProgressModel",
      "_view_count": null,
      "_view_module": "@jupyter-widgets/controls",
      "_view_module_version": "1.5.0",
      "_view_name": "ProgressView",
      "bar_style": "success",
      "description": "",
      "description_tooltip": null,
      "layout": "IPY_MODEL_a261e37a531d493996a7639abf5080c2",
      "max": 1,
      "min": 0,
      "orientation": "horizontal",
      "style": "IPY_MODEL_1b3c664e13e046e7ba27074beb31dbd2",
      "value": 1
     }
    },
    "6fa4e2b7e8cc43648d0d4babbfb704ee": {
     "model_module": "@jupyter-widgets/base",
     "model_name": "LayoutModel",
     "state": {
      "_model_module": "@jupyter-widgets/base",
      "_model_module_version": "1.2.0",
      "_model_name": "LayoutModel",
      "_view_count": null,
      "_view_module": "@jupyter-widgets/base",
      "_view_module_version": "1.2.0",
      "_view_name": "LayoutView",
      "align_content": null,
      "align_items": null,
      "align_self": null,
      "border": null,
      "bottom": null,
      "display": null,
      "flex": null,
      "flex_flow": null,
      "grid_area": null,
      "grid_auto_columns": null,
      "grid_auto_flow": null,
      "grid_auto_rows": null,
      "grid_column": null,
      "grid_gap": null,
      "grid_row": null,
      "grid_template_areas": null,
      "grid_template_columns": null,
      "grid_template_rows": null,
      "height": null,
      "justify_content": null,
      "justify_items": null,
      "left": null,
      "margin": null,
      "max_height": null,
      "max_width": null,
      "min_height": null,
      "min_width": null,
      "object_fit": null,
      "object_position": null,
      "order": null,
      "overflow": null,
      "overflow_x": null,
      "overflow_y": null,
      "padding": null,
      "right": null,
      "top": null,
      "visibility": null,
      "width": null
     }
    },
    "710ccf67c42f433c82aaeb10875723fa": {
     "model_module": "@jupyter-widgets/controls",
     "model_name": "HBoxModel",
     "state": {
      "_dom_classes": [],
      "_model_module": "@jupyter-widgets/controls",
      "_model_module_version": "1.5.0",
      "_model_name": "HBoxModel",
      "_view_count": null,
      "_view_module": "@jupyter-widgets/controls",
      "_view_module_version": "1.5.0",
      "_view_name": "HBoxView",
      "box_style": "",
      "children": [
       "IPY_MODEL_8d3fc523381645dfb9ef56fc7f7054df",
       "IPY_MODEL_9b913ca653f24d1c83572f3d2b27c5e0"
      ],
      "layout": "IPY_MODEL_750cbbda792f4f5b8a188465e6faf852"
     }
    },
    "750cbbda792f4f5b8a188465e6faf852": {
     "model_module": "@jupyter-widgets/base",
     "model_name": "LayoutModel",
     "state": {
      "_model_module": "@jupyter-widgets/base",
      "_model_module_version": "1.2.0",
      "_model_name": "LayoutModel",
      "_view_count": null,
      "_view_module": "@jupyter-widgets/base",
      "_view_module_version": "1.2.0",
      "_view_name": "LayoutView",
      "align_content": null,
      "align_items": null,
      "align_self": null,
      "border": null,
      "bottom": null,
      "display": null,
      "flex": null,
      "flex_flow": null,
      "grid_area": null,
      "grid_auto_columns": null,
      "grid_auto_flow": null,
      "grid_auto_rows": null,
      "grid_column": null,
      "grid_gap": null,
      "grid_row": null,
      "grid_template_areas": null,
      "grid_template_columns": null,
      "grid_template_rows": null,
      "height": null,
      "justify_content": null,
      "justify_items": null,
      "left": null,
      "margin": null,
      "max_height": null,
      "max_width": null,
      "min_height": null,
      "min_width": null,
      "object_fit": null,
      "object_position": null,
      "order": null,
      "overflow": null,
      "overflow_x": null,
      "overflow_y": null,
      "padding": null,
      "right": null,
      "top": null,
      "visibility": null,
      "width": null
     }
    },
    "7a5758cc6fa54feeabdf415ad399ecea": {
     "model_module": "@jupyter-widgets/base",
     "model_name": "LayoutModel",
     "state": {
      "_model_module": "@jupyter-widgets/base",
      "_model_module_version": "1.2.0",
      "_model_name": "LayoutModel",
      "_view_count": null,
      "_view_module": "@jupyter-widgets/base",
      "_view_module_version": "1.2.0",
      "_view_name": "LayoutView",
      "align_content": null,
      "align_items": null,
      "align_self": null,
      "border": null,
      "bottom": null,
      "display": null,
      "flex": null,
      "flex_flow": null,
      "grid_area": null,
      "grid_auto_columns": null,
      "grid_auto_flow": null,
      "grid_auto_rows": null,
      "grid_column": null,
      "grid_gap": null,
      "grid_row": null,
      "grid_template_areas": null,
      "grid_template_columns": null,
      "grid_template_rows": null,
      "height": null,
      "justify_content": null,
      "justify_items": null,
      "left": null,
      "margin": null,
      "max_height": null,
      "max_width": null,
      "min_height": null,
      "min_width": null,
      "object_fit": null,
      "object_position": null,
      "order": null,
      "overflow": null,
      "overflow_x": null,
      "overflow_y": null,
      "padding": null,
      "right": null,
      "top": null,
      "visibility": null,
      "width": null
     }
    },
    "8be52de84367457bb1b40efd8c2ee84f": {
     "model_module": "@jupyter-widgets/controls",
     "model_name": "DescriptionStyleModel",
     "state": {
      "_model_module": "@jupyter-widgets/controls",
      "_model_module_version": "1.5.0",
      "_model_name": "DescriptionStyleModel",
      "_view_count": null,
      "_view_module": "@jupyter-widgets/base",
      "_view_module_version": "1.2.0",
      "_view_name": "StyleView",
      "description_width": ""
     }
    },
    "8c3c9bb6161144518e96aa5754212768": {
     "model_module": "@jupyter-widgets/base",
     "model_name": "LayoutModel",
     "state": {
      "_model_module": "@jupyter-widgets/base",
      "_model_module_version": "1.2.0",
      "_model_name": "LayoutModel",
      "_view_count": null,
      "_view_module": "@jupyter-widgets/base",
      "_view_module_version": "1.2.0",
      "_view_name": "LayoutView",
      "align_content": null,
      "align_items": null,
      "align_self": null,
      "border": null,
      "bottom": null,
      "display": null,
      "flex": null,
      "flex_flow": null,
      "grid_area": null,
      "grid_auto_columns": null,
      "grid_auto_flow": null,
      "grid_auto_rows": null,
      "grid_column": null,
      "grid_gap": null,
      "grid_row": null,
      "grid_template_areas": null,
      "grid_template_columns": null,
      "grid_template_rows": null,
      "height": null,
      "justify_content": null,
      "justify_items": null,
      "left": null,
      "margin": null,
      "max_height": null,
      "max_width": null,
      "min_height": null,
      "min_width": null,
      "object_fit": null,
      "object_position": null,
      "order": null,
      "overflow": null,
      "overflow_x": null,
      "overflow_y": null,
      "padding": null,
      "right": null,
      "top": null,
      "visibility": null,
      "width": null
     }
    },
    "8d3fc523381645dfb9ef56fc7f7054df": {
     "model_module": "@jupyter-widgets/controls",
     "model_name": "IntProgressModel",
     "state": {
      "_dom_classes": [],
      "_model_module": "@jupyter-widgets/controls",
      "_model_module_version": "1.5.0",
      "_model_name": "IntProgressModel",
      "_view_count": null,
      "_view_module": "@jupyter-widgets/controls",
      "_view_module_version": "1.5.0",
      "_view_name": "ProgressView",
      "bar_style": "info",
      "description": "",
      "description_tooltip": null,
      "layout": "IPY_MODEL_c9e52713015f4a15946eaa1526a4e025",
      "max": 1,
      "min": 0,
      "orientation": "horizontal",
      "style": "IPY_MODEL_2f069e0f908448588780ab80038de3a4",
      "value": 1
     }
    },
    "9b913ca653f24d1c83572f3d2b27c5e0": {
     "model_module": "@jupyter-widgets/controls",
     "model_name": "HTMLModel",
     "state": {
      "_dom_classes": [],
      "_model_module": "@jupyter-widgets/controls",
      "_model_module_version": "1.5.0",
      "_model_name": "HTMLModel",
      "_view_count": null,
      "_view_module": "@jupyter-widgets/controls",
      "_view_module_version": "1.5.0",
      "_view_name": "HTMLView",
      "description": "",
      "description_tooltip": null,
      "layout": "IPY_MODEL_2ba95524a20a4102848ad748d6e075ce",
      "placeholder": "​",
      "style": "IPY_MODEL_ba12503badf342e782d129ed5050e905",
      "value": " 1654784/? [00:18&lt;00:00, 249068.23it/s]"
     }
    },
    "a261e37a531d493996a7639abf5080c2": {
     "model_module": "@jupyter-widgets/base",
     "model_name": "LayoutModel",
     "state": {
      "_model_module": "@jupyter-widgets/base",
      "_model_module_version": "1.2.0",
      "_model_name": "LayoutModel",
      "_view_count": null,
      "_view_module": "@jupyter-widgets/base",
      "_view_module_version": "1.2.0",
      "_view_name": "LayoutView",
      "align_content": null,
      "align_items": null,
      "align_self": null,
      "border": null,
      "bottom": null,
      "display": null,
      "flex": null,
      "flex_flow": null,
      "grid_area": null,
      "grid_auto_columns": null,
      "grid_auto_flow": null,
      "grid_auto_rows": null,
      "grid_column": null,
      "grid_gap": null,
      "grid_row": null,
      "grid_template_areas": null,
      "grid_template_columns": null,
      "grid_template_rows": null,
      "height": null,
      "justify_content": null,
      "justify_items": null,
      "left": null,
      "margin": null,
      "max_height": null,
      "max_width": null,
      "min_height": null,
      "min_width": null,
      "object_fit": null,
      "object_position": null,
      "order": null,
      "overflow": null,
      "overflow_x": null,
      "overflow_y": null,
      "padding": null,
      "right": null,
      "top": null,
      "visibility": null,
      "width": null
     }
    },
    "a5e8432295f14b2c97176898a8c1ae07": {
     "model_module": "@jupyter-widgets/controls",
     "model_name": "HTMLModel",
     "state": {
      "_dom_classes": [],
      "_model_module": "@jupyter-widgets/controls",
      "_model_module_version": "1.5.0",
      "_model_name": "HTMLModel",
      "_view_count": null,
      "_view_module": "@jupyter-widgets/controls",
      "_view_module_version": "1.5.0",
      "_view_name": "HTMLView",
      "description": "",
      "description_tooltip": null,
      "layout": "IPY_MODEL_eea80f4ade51436190281df17448c219",
      "placeholder": "​",
      "style": "IPY_MODEL_8be52de84367457bb1b40efd8c2ee84f",
      "value": " 32768/? [00:00&lt;00:00, 91545.35it/s]"
     }
    },
    "ad6db70edf8445c3bceb556341e9e5f6": {
     "model_module": "@jupyter-widgets/controls",
     "model_name": "HTMLModel",
     "state": {
      "_dom_classes": [],
      "_model_module": "@jupyter-widgets/controls",
      "_model_module_version": "1.5.0",
      "_model_name": "HTMLModel",
      "_view_count": null,
      "_view_module": "@jupyter-widgets/controls",
      "_view_module_version": "1.5.0",
      "_view_name": "HTMLView",
      "description": "",
      "description_tooltip": null,
      "layout": "IPY_MODEL_8c3c9bb6161144518e96aa5754212768",
      "placeholder": "​",
      "style": "IPY_MODEL_11b17f9cc5ea4918af0ac7a2e84ae8cd",
      "value": " 9920512/? [00:20&lt;00:00, 721345.42it/s]"
     }
    },
    "ba12503badf342e782d129ed5050e905": {
     "model_module": "@jupyter-widgets/controls",
     "model_name": "DescriptionStyleModel",
     "state": {
      "_model_module": "@jupyter-widgets/controls",
      "_model_module_version": "1.5.0",
      "_model_name": "DescriptionStyleModel",
      "_view_count": null,
      "_view_module": "@jupyter-widgets/base",
      "_view_module_version": "1.2.0",
      "_view_name": "StyleView",
      "description_width": ""
     }
    },
    "bdeb5f5cf1c947f086060372e09d5b47": {
     "model_module": "@jupyter-widgets/controls",
     "model_name": "ProgressStyleModel",
     "state": {
      "_model_module": "@jupyter-widgets/controls",
      "_model_module_version": "1.5.0",
      "_model_name": "ProgressStyleModel",
      "_view_count": null,
      "_view_module": "@jupyter-widgets/base",
      "_view_module_version": "1.2.0",
      "_view_name": "StyleView",
      "bar_color": null,
      "description_width": "initial"
     }
    },
    "c9e52713015f4a15946eaa1526a4e025": {
     "model_module": "@jupyter-widgets/base",
     "model_name": "LayoutModel",
     "state": {
      "_model_module": "@jupyter-widgets/base",
      "_model_module_version": "1.2.0",
      "_model_name": "LayoutModel",
      "_view_count": null,
      "_view_module": "@jupyter-widgets/base",
      "_view_module_version": "1.2.0",
      "_view_name": "LayoutView",
      "align_content": null,
      "align_items": null,
      "align_self": null,
      "border": null,
      "bottom": null,
      "display": null,
      "flex": null,
      "flex_flow": null,
      "grid_area": null,
      "grid_auto_columns": null,
      "grid_auto_flow": null,
      "grid_auto_rows": null,
      "grid_column": null,
      "grid_gap": null,
      "grid_row": null,
      "grid_template_areas": null,
      "grid_template_columns": null,
      "grid_template_rows": null,
      "height": null,
      "justify_content": null,
      "justify_items": null,
      "left": null,
      "margin": null,
      "max_height": null,
      "max_width": null,
      "min_height": null,
      "min_width": null,
      "object_fit": null,
      "object_position": null,
      "order": null,
      "overflow": null,
      "overflow_x": null,
      "overflow_y": null,
      "padding": null,
      "right": null,
      "top": null,
      "visibility": null,
      "width": null
     }
    },
    "ce49e649bb0248299af1ee23bbfca586": {
     "model_module": "@jupyter-widgets/base",
     "model_name": "LayoutModel",
     "state": {
      "_model_module": "@jupyter-widgets/base",
      "_model_module_version": "1.2.0",
      "_model_name": "LayoutModel",
      "_view_count": null,
      "_view_module": "@jupyter-widgets/base",
      "_view_module_version": "1.2.0",
      "_view_name": "LayoutView",
      "align_content": null,
      "align_items": null,
      "align_self": null,
      "border": null,
      "bottom": null,
      "display": null,
      "flex": null,
      "flex_flow": null,
      "grid_area": null,
      "grid_auto_columns": null,
      "grid_auto_flow": null,
      "grid_auto_rows": null,
      "grid_column": null,
      "grid_gap": null,
      "grid_row": null,
      "grid_template_areas": null,
      "grid_template_columns": null,
      "grid_template_rows": null,
      "height": null,
      "justify_content": null,
      "justify_items": null,
      "left": null,
      "margin": null,
      "max_height": null,
      "max_width": null,
      "min_height": null,
      "min_width": null,
      "object_fit": null,
      "object_position": null,
      "order": null,
      "overflow": null,
      "overflow_x": null,
      "overflow_y": null,
      "padding": null,
      "right": null,
      "top": null,
      "visibility": null,
      "width": null
     }
    },
    "db810661fcf5478e9b066b8372cfca79": {
     "model_module": "@jupyter-widgets/controls",
     "model_name": "DescriptionStyleModel",
     "state": {
      "_model_module": "@jupyter-widgets/controls",
      "_model_module_version": "1.5.0",
      "_model_name": "DescriptionStyleModel",
      "_view_count": null,
      "_view_module": "@jupyter-widgets/base",
      "_view_module_version": "1.2.0",
      "_view_name": "StyleView",
      "description_width": ""
     }
    },
    "e181cf92cda543429e74f4f41e21845f": {
     "model_module": "@jupyter-widgets/controls",
     "model_name": "HBoxModel",
     "state": {
      "_dom_classes": [],
      "_model_module": "@jupyter-widgets/controls",
      "_model_module_version": "1.5.0",
      "_model_name": "HBoxModel",
      "_view_count": null,
      "_view_module": "@jupyter-widgets/controls",
      "_view_module_version": "1.5.0",
      "_view_name": "HBoxView",
      "box_style": "",
      "children": [
       "IPY_MODEL_379e0d5ec4424d5eafb5361022b58936",
       "IPY_MODEL_ad6db70edf8445c3bceb556341e9e5f6"
      ],
      "layout": "IPY_MODEL_ffb54bdfa2ee4738903e1f1a3e326529"
     }
    },
    "e4c95b18f06b4389a7bce0df03afaf38": {
     "model_module": "@jupyter-widgets/controls",
     "model_name": "ProgressStyleModel",
     "state": {
      "_model_module": "@jupyter-widgets/controls",
      "_model_module_version": "1.5.0",
      "_model_name": "ProgressStyleModel",
      "_view_count": null,
      "_view_module": "@jupyter-widgets/base",
      "_view_module_version": "1.2.0",
      "_view_name": "StyleView",
      "bar_color": null,
      "description_width": "initial"
     }
    },
    "e8983944c4c543dc96f045a6cd751680": {
     "model_module": "@jupyter-widgets/controls",
     "model_name": "IntProgressModel",
     "state": {
      "_dom_classes": [],
      "_model_module": "@jupyter-widgets/controls",
      "_model_module_version": "1.5.0",
      "_model_name": "IntProgressModel",
      "_view_count": null,
      "_view_module": "@jupyter-widgets/controls",
      "_view_module_version": "1.5.0",
      "_view_name": "ProgressView",
      "bar_style": "success",
      "description": "",
      "description_tooltip": null,
      "layout": "IPY_MODEL_09552e275f7f48c8b40c7123847919d8",
      "max": 1,
      "min": 0,
      "orientation": "horizontal",
      "style": "IPY_MODEL_e4c95b18f06b4389a7bce0df03afaf38",
      "value": 1
     }
    },
    "eada6428b1e549d99b55149fa9479361": {
     "model_module": "@jupyter-widgets/controls",
     "model_name": "HBoxModel",
     "state": {
      "_dom_classes": [],
      "_model_module": "@jupyter-widgets/controls",
      "_model_module_version": "1.5.0",
      "_model_name": "HBoxModel",
      "_view_count": null,
      "_view_module": "@jupyter-widgets/controls",
      "_view_module_version": "1.5.0",
      "_view_name": "HBoxView",
      "box_style": "",
      "children": [
       "IPY_MODEL_473fa4f13ecd461db6c9dff761c6fcec",
       "IPY_MODEL_a5e8432295f14b2c97176898a8c1ae07"
      ],
      "layout": "IPY_MODEL_7a5758cc6fa54feeabdf415ad399ecea"
     }
    },
    "eea80f4ade51436190281df17448c219": {
     "model_module": "@jupyter-widgets/base",
     "model_name": "LayoutModel",
     "state": {
      "_model_module": "@jupyter-widgets/base",
      "_model_module_version": "1.2.0",
      "_model_name": "LayoutModel",
      "_view_count": null,
      "_view_module": "@jupyter-widgets/base",
      "_view_module_version": "1.2.0",
      "_view_name": "LayoutView",
      "align_content": null,
      "align_items": null,
      "align_self": null,
      "border": null,
      "bottom": null,
      "display": null,
      "flex": null,
      "flex_flow": null,
      "grid_area": null,
      "grid_auto_columns": null,
      "grid_auto_flow": null,
      "grid_auto_rows": null,
      "grid_column": null,
      "grid_gap": null,
      "grid_row": null,
      "grid_template_areas": null,
      "grid_template_columns": null,
      "grid_template_rows": null,
      "height": null,
      "justify_content": null,
      "justify_items": null,
      "left": null,
      "margin": null,
      "max_height": null,
      "max_width": null,
      "min_height": null,
      "min_width": null,
      "object_fit": null,
      "object_position": null,
      "order": null,
      "overflow": null,
      "overflow_x": null,
      "overflow_y": null,
      "padding": null,
      "right": null,
      "top": null,
      "visibility": null,
      "width": null
     }
    },
    "f12148f9d6b849fd85b0c6c1bafca087": {
     "model_module": "@jupyter-widgets/controls",
     "model_name": "HTMLModel",
     "state": {
      "_dom_classes": [],
      "_model_module": "@jupyter-widgets/controls",
      "_model_module_version": "1.5.0",
      "_model_name": "HTMLModel",
      "_view_count": null,
      "_view_module": "@jupyter-widgets/controls",
      "_view_module_version": "1.5.0",
      "_view_name": "HTMLView",
      "description": "",
      "description_tooltip": null,
      "layout": "IPY_MODEL_6fa4e2b7e8cc43648d0d4babbfb704ee",
      "placeholder": "​",
      "style": "IPY_MODEL_db810661fcf5478e9b066b8372cfca79",
      "value": " 8192/? [00:00&lt;00:00, 20648.32it/s]"
     }
    },
    "ffb54bdfa2ee4738903e1f1a3e326529": {
     "model_module": "@jupyter-widgets/base",
     "model_name": "LayoutModel",
     "state": {
      "_model_module": "@jupyter-widgets/base",
      "_model_module_version": "1.2.0",
      "_model_name": "LayoutModel",
      "_view_count": null,
      "_view_module": "@jupyter-widgets/base",
      "_view_module_version": "1.2.0",
      "_view_name": "LayoutView",
      "align_content": null,
      "align_items": null,
      "align_self": null,
      "border": null,
      "bottom": null,
      "display": null,
      "flex": null,
      "flex_flow": null,
      "grid_area": null,
      "grid_auto_columns": null,
      "grid_auto_flow": null,
      "grid_auto_rows": null,
      "grid_column": null,
      "grid_gap": null,
      "grid_row": null,
      "grid_template_areas": null,
      "grid_template_columns": null,
      "grid_template_rows": null,
      "height": null,
      "justify_content": null,
      "justify_items": null,
      "left": null,
      "margin": null,
      "max_height": null,
      "max_width": null,
      "min_height": null,
      "min_width": null,
      "object_fit": null,
      "object_position": null,
      "order": null,
      "overflow": null,
      "overflow_x": null,
      "overflow_y": null,
      "padding": null,
      "right": null,
      "top": null,
      "visibility": null,
      "width": null
     }
    }
   }
  }
 },
 "nbformat": 4,
 "nbformat_minor": 1
}
